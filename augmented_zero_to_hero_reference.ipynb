{
 "cells": [
  {
   "cell_type": "markdown",
   "metadata": {},
   "source": [
    "# Augmented Python Reference\n",
    "\n",
    "This notebook **expands on** the [original shorter reference material](https://github.com/gamesbyjames/spanish-flash/blob/main/zero_to_hero_python_reference.ipynb). It provides **additional** Python concepts at a beginner-to-intermediate level, including:\n",
    "\n",
    "1. Advanced List Operations & Comprehensions\n",
    "2. NumPy Array Operations\n",
    "3. Functional Programming (map, filter, reduce, lambdas)\n",
    "4. Object-Oriented Programming (OOP)\n",
    "5. Decorators\n",
    "6. Context Managers\n",
    "7. Python Type Hints\n",
    "8. Efficient Iteration (Generators, itertools, Batching)\n",
    "9. Error Handling (try/except, raising exceptions)\n",
    "10. Advanced String Formatting (f-strings, etc.)\n",
    "\n",
    "All code is pure Python + NumPy (no deep learning frameworks). **Run each cell** to see outputs and try the interactive quizzes."
   ]
  },
  {
   "cell_type": "markdown",
   "metadata": {},
   "source": [
    "## Setup (Imports)\n",
    "\n",
    "Make sure you have the following installed:\n",
    "- `ipywidgets` (for interactive quizzes)\n",
    "- `numpy`\n",
    "\n",
    "Then import them here:"
   ]
  },
  {
   "cell_type": "code",
   "execution_count": 20,
   "metadata": {},
   "outputs": [],
   "source": [
    "import ipywidgets as widgets\n",
    "from IPython.display import display, clear_output\n",
    "import numpy as np"
   ]
  },
  {
   "cell_type": "markdown",
   "metadata": {},
   "source": [
    "# 1. Advanced List Operations & Comprehensions\n",
    "\n",
    "You may know basic list comprehensions (e.g., `[x+1 for x in some_list]`). Below are some **advanced** or **less common** uses:\n",
    "- Nested list comprehensions\n",
    "- Using `zip` to combine lists in parallel\n",
    "- \"Unzipping\" data with `zip(*list_of_pairs)`\n",
    "\n",
    "These patterns are often used in data preprocessing and batch creation in machine learning code (although we’re not using a deep learning library here)."
   ]
  },
  {
   "cell_type": "code",
   "execution_count": 21,
   "metadata": {},
   "outputs": [
    {
     "name": "stdout",
     "output_type": "stream",
     "text": [
      "Original matrix: [[1, 2, 3], [4, 5, 6]]\n",
      "Flattened list: [1, 2, 3, 4, 5, 6]\n"
     ]
    }
   ],
   "source": [
    "# Example: Nested list comprehension to flatten a 2D list\n",
    "# 'matrix' is a list of lists. We want to collect all elements into a single list.\n",
    "matrix = [[1, 2, 3], [4, 5, 6]]\n",
    "# The comprehension below reads:\n",
    "#   for each sublist x in matrix,\n",
    "#       for each element y in x,\n",
    "#           produce y\n",
    "flattened = [y for x in matrix for y in x]\n",
    "print(\"Original matrix:\", matrix)\n",
    "print(\"Flattened list:\", flattened)"
   ]
  },
  {
   "cell_type": "markdown",
   "metadata": {},
   "source": [
    "### Parallel Iteration with `zip`\n",
    "\n",
    "You can **zip** two (or more) lists to iterate over them in parallel. This returns pairs (tuples) of corresponding elements."
   ]
  },
  {
   "cell_type": "code",
   "execution_count": 22,
   "metadata": {},
   "outputs": [
    {
     "name": "stdout",
     "output_type": "stream",
     "text": [
      "Zipped pairs: [(1, 10), (2, 20), (3, 30)]\n",
      "Element-wise sums: [11, 22, 33]\n",
      "Unzipped nums: (1, 2, 3)\n",
      "Unzipped tens: (10, 20, 30)\n"
     ]
    }
   ],
   "source": [
    "list1 = [1, 2, 3]\n",
    "list2 = [10, 20, 30]\n",
    "\n",
    "# Zipping them creates pairs like (1,10), (2,20), (3,30)\n",
    "paired = list(zip(list1, list2))\n",
    "print(\"Zipped pairs:\", paired)\n",
    "\n",
    "# We can do element-wise addition by unpacking each pair in a comprehension:\n",
    "sum_list = [a + b for (a, b) in zip(list1, list2)]\n",
    "print(\"Element-wise sums:\", sum_list)\n",
    "\n",
    "# 'Unzipping' with zip(*...) splits paired data back:\n",
    "nums, tens = zip(*paired)\n",
    "print(\"Unzipped nums:\", nums)\n",
    "print(\"Unzipped tens:\", tens)"
   ]
  },
  {
   "cell_type": "markdown",
   "metadata": {},
   "source": [
    "### Quiz\n",
    "\n",
    "What will be the result of this code?\n",
    "```python\n",
    "matrix = [[1, 2], [3, 4], [5, 6]]\n",
    "result = [y*2 for x in matrix for y in x if y % 2 == 1]\n",
    "print(result)\n",
    "```\n",
    "*(Hint: it doubles the odd numbers. The odd elements in each sublist are 1,3,5.)*"
   ]
  },
  {
   "cell_type": "code",
   "execution_count": 24,
   "metadata": {},
   "outputs": [
    {
     "data": {
      "application/vnd.jupyter.widget-view+json": {
       "model_id": "9fa349d28dbd47c2b03193e310150212",
       "version_major": 2,
       "version_minor": 0
      },
      "text/plain": [
       "RadioButtons(description='Possible Output:', options=('[2, 6, 10]', '[2, 4, 6, 8, 10, 12]', '[2, 6, 10, 12]'),…"
      ]
     },
     "metadata": {},
     "output_type": "display_data"
    },
    {
     "data": {
      "application/vnd.jupyter.widget-view+json": {
       "model_id": "d7638e3728f043ff868485e4ef06a29b",
       "version_major": 2,
       "version_minor": 0
      },
      "text/plain": [
       "Output()"
      ]
     },
     "metadata": {},
     "output_type": "display_data"
    }
   ],
   "source": [
    "quiz1_options = [\n",
    "    \"[2, 6, 10]\",\n",
    "    \"[2, 4, 6, 8, 10, 12]\",\n",
    "    \"[2, 6, 10, 12]\"\n",
    "]\n",
    "\n",
    "quiz1_radio = widgets.RadioButtons(\n",
    "    options=quiz1_options,\n",
    "    description='Possible Output:'\n",
    ")\n",
    "quiz1_output = widgets.Output()\n",
    "\n",
    "def on_quiz1_change(change):\n",
    "    if change['type'] == 'change' and change['name'] == 'value':\n",
    "        with quiz1_output:\n",
    "            clear_output()\n",
    "            if change['new'] == \"[2, 6, 10]\":\n",
    "                print(\"✅ Correct! It's doubling 1,3,5 -> 2,6,10.\")\n",
    "            else:\n",
    "                print(\"❌ Try again...\")\n",
    "\n",
    "quiz1_radio.observe(on_quiz1_change, names='value')\n",
    "display(quiz1_radio, quiz1_output)"
   ]
  },
  {
   "cell_type": "markdown",
   "metadata": {},
   "source": [
    "# 2. NumPy Array Operations\n",
    "\n",
    "NumPy is central to numerical computing in Python. Key features include:\n",
    "\n",
    "- **Array creation** (`np.array`, `np.zeros`, `np.ones`, etc.)\n",
    "- **Broadcasting** (automatic expansion of dimensions for arithmetic)\n",
    "- **Slicing/Indexing** (like Python lists, but extended to multiple dimensions)\n",
    "- **Reshaping** (change shape without changing data)\n",
    "- **Element-wise math** (e.g., `np.sin`, `a + b`, `a * b`, etc.)"
   ]
  },
  {
   "cell_type": "code",
   "execution_count": 25,
   "metadata": {},
   "outputs": [
    {
     "name": "stdout",
     "output_type": "stream",
     "text": [
      "Array a:\n",
      " [[1 2 3]\n",
      " [4 5 6]]\n",
      "\n",
      "Array b: [10 20 30]\n",
      "\n",
      "Broadcasted a + b:\n",
      " [[11 22 33]\n",
      " [14 25 36]]\n"
     ]
    }
   ],
   "source": [
    "import numpy as np\n",
    "\n",
    "# Create a 2x3 array\n",
    "a = np.array([[1, 2, 3],\n",
    "              [4, 5, 6]])\n",
    "print(\"Array a:\\n\", a)\n",
    "\n",
    "# Create a 1D array of length 3\n",
    "b = np.array([10, 20, 30])\n",
    "print(\"\\nArray b:\", b)\n",
    "\n",
    "# Broadcasting: b is shape (3,), a is (2,3). b is added to each row of a.\n",
    "print(\"\\nBroadcasted a + b:\\n\", a + b)"
   ]
  },
  {
   "cell_type": "code",
   "execution_count": 26,
   "metadata": {},
   "outputs": [
    {
     "name": "stdout",
     "output_type": "stream",
     "text": [
      "First two columns of a:\n",
      " [[1 2]\n",
      " [4 5]]\n",
      "\n",
      "Reshaped a to 3x2:\n",
      " [[1 2]\n",
      " [3 4]\n",
      " [5 6]]\n",
      "\n",
      "Flattened a:\n",
      " [1 2 3 4 5 6]\n"
     ]
    }
   ],
   "source": [
    "# Slicing: extracting subarrays\n",
    "subarray = a[:, :2]  # all rows, first 2 columns\n",
    "print(\"First two columns of a:\\n\", subarray)\n",
    "\n",
    "# Reshaping\n",
    "reshaped = a.reshape(3, 2)\n",
    "print(\"\\nReshaped a to 3x2:\\n\", reshaped)\n",
    "\n",
    "flattened = a.reshape(-1)\n",
    "print(\"\\nFlattened a:\\n\", flattened)"
   ]
  },
  {
   "cell_type": "code",
   "execution_count": 27,
   "metadata": {},
   "outputs": [
    {
     "name": "stdout",
     "output_type": "stream",
     "text": [
      "Element-wise multiplication (a * 2):\n",
      " [[ 2  4  6]\n",
      " [ 8 10 12]]\n",
      "Element-wise squaring (a ** 2):\n",
      " [[ 1  4  9]\n",
      " [16 25 36]]\n",
      "Element-wise sine (np.sin(a)):\n",
      " [[ 0.84147098  0.90929743  0.14112001]\n",
      " [-0.7568025  -0.95892427 -0.2794155 ]]\n",
      "\n",
      "Scaled rows (broadcasted multiplication):\n",
      " [[ 2  4  6]\n",
      " [12 15 18]]\n"
     ]
    }
   ],
   "source": [
    "# Element-wise math\n",
    "print(\"Element-wise multiplication (a * 2):\\n\", a * 2)\n",
    "print(\"Element-wise squaring (a ** 2):\\n\", a ** 2)\n",
    "print(\"Element-wise sine (np.sin(a)):\\n\", np.sin(a))\n",
    "\n",
    "# Another broadcasting example\n",
    "factors = np.array([[2], [3]])  # shape (2,1)\n",
    "scaled_rows = a * factors\n",
    "print(\"\\nScaled rows (broadcasted multiplication):\\n\", scaled_rows)"
   ]
  },
  {
   "cell_type": "markdown",
   "metadata": {},
   "source": [
    "### Quiz\n",
    "\n",
    "Suppose `X` is shape `(5,4)` and `v` is shape `(4,)`. If we do `Y = X + v`, what is `Y.shape` due to broadcasting?"
   ]
  },
  {
   "cell_type": "code",
   "execution_count": 29,
   "metadata": {},
   "outputs": [
    {
     "data": {
      "application/vnd.jupyter.widget-view+json": {
       "model_id": "1e3b137706ad45db93a5a1f0fe1a2b57",
       "version_major": 2,
       "version_minor": 0
      },
      "text/plain": [
       "RadioButtons(description='Y.shape:', options=('(5, 4)', '(4, 5)', '(5, 4, 4)', 'Broadcasting not possible'), v…"
      ]
     },
     "metadata": {},
     "output_type": "display_data"
    },
    {
     "data": {
      "application/vnd.jupyter.widget-view+json": {
       "model_id": "9bb18ca74898489985176a553087ed06",
       "version_major": 2,
       "version_minor": 0
      },
      "text/plain": [
       "Output()"
      ]
     },
     "metadata": {},
     "output_type": "display_data"
    }
   ],
   "source": [
    "quiz2_options = [\"(5, 4)\", \"(4, 5)\", \"(5, 4, 4)\", \"Broadcasting not possible\"]\n",
    "quiz2_radio = widgets.RadioButtons(options=quiz2_options, description='Y.shape:')\n",
    "quiz2_output = widgets.Output()\n",
    "\n",
    "def on_quiz2_change(change):\n",
    "    if change['type'] == 'change' and change['name'] == 'value':\n",
    "        with quiz2_output:\n",
    "            clear_output()\n",
    "            if change['new'] == \"(5, 4)\":\n",
    "                print(\"✅ Correct! The result is (5,4).\")\n",
    "            else:\n",
    "                print(\"❌ Nope, try again.\")\n",
    "\n",
    "quiz2_radio.observe(on_quiz2_change, names='value')\n",
    "display(quiz2_radio, quiz2_output)"
   ]
  },
  {
   "cell_type": "markdown",
   "metadata": {},
   "source": [
    "# 3. Functional Programming (map, filter, reduce, lambdas)\n",
    "\n",
    "Besides **list comprehensions**, Python offers `map`, `filter`, and `reduce` for a *functional* style:\n",
    "\n",
    "- **`map(func, iterable)`**: applies `func` to each element, returning an iterator of results.\n",
    "- **`filter(func, iterable)`**: keeps elements where `func(elem)` is True.\n",
    "- **`reduce(func, iterable)`**: repeatedly applies `func` to combine elements into a single value. (In `functools` module.)\n",
    "- **`lambda`**: an inline (anonymous) function, used for quick transformations.\n",
    "\n",
    "Many times, list comprehensions are more readable, but these remain common in various codebases."
   ]
  },
  {
   "cell_type": "code",
   "execution_count": 30,
   "metadata": {},
   "outputs": [
    {
     "name": "stdout",
     "output_type": "stream",
     "text": [
      "Squares: [1, 4, 9, 16, 25]\n",
      "Evens: [2, 4]\n",
      "Product of all: 120\n"
     ]
    }
   ],
   "source": [
    "# We'll show map, filter, and reduce side by side.\n",
    "# map applies a function to every element,\n",
    "# filter keeps only elements where the condition is True,\n",
    "# reduce aggregates to a single value.\n",
    "\n",
    "nums = [1, 2, 3, 4, 5]\n",
    "\n",
    "# map() example: square each number\n",
    "squares = list(map(lambda x: x**2, nums))\n",
    "print(\"Squares:\", squares)\n",
    "\n",
    "# filter() example: keep only even numbers\n",
    "evens = list(filter(lambda x: x % 2 == 0, nums))\n",
    "print(\"Evens:\", evens)\n",
    "\n",
    "# reduce() example: multiply all numbers\n",
    "from functools import reduce\n",
    "product = reduce(lambda a, b: a * b, nums)\n",
    "print(\"Product of all:\", product)\n",
    "\n",
    "# Notice each does a different type of transformation or selection.\n",
    "# map -> transforms each element,\n",
    "# filter -> selects certain elements,\n",
    "# reduce -> combines them all into one value."
   ]
  },
  {
   "cell_type": "markdown",
   "metadata": {},
   "source": [
    "### Quiz\n",
    "\n",
    "Which snippet **also** produces `[2, 3, 4]` (the same result as `list(map(lambda x: x+1, [1, 2, 3]))`)?"
   ]
  },
  {
   "cell_type": "code",
   "execution_count": 32,
   "metadata": {},
   "outputs": [
    {
     "data": {
      "application/vnd.jupyter.widget-view+json": {
       "model_id": "f79a0384ec23470c93ba56e251e3f0d1",
       "version_major": 2,
       "version_minor": 0
      },
      "text/plain": [
       "RadioButtons(description='Pick one:', options=('[x + 1 for x in [1, 2, 3]]', 'list(filter(lambda x: x+1, [1, 2…"
      ]
     },
     "metadata": {},
     "output_type": "display_data"
    },
    {
     "data": {
      "application/vnd.jupyter.widget-view+json": {
       "model_id": "75e824bcd97c4066924aa19fc30d61d1",
       "version_major": 2,
       "version_minor": 0
      },
      "text/plain": [
       "Output()"
      ]
     },
     "metadata": {},
     "output_type": "display_data"
    }
   ],
   "source": [
    "quiz3_options = [\n",
    "    \"[x + 1 for x in [1, 2, 3]]\",\n",
    "    \"list(filter(lambda x: x+1, [1, 2, 3]))\",\n",
    "    \"for x in [1, 2, 3]: x+1\"\n",
    "]\n",
    "\n",
    "quiz3_radio = widgets.RadioButtons(\n",
    "    options=quiz3_options,\n",
    "    description='Pick one:'\n",
    ")\n",
    "quiz3_output = widgets.Output()\n",
    "\n",
    "def on_quiz3_change(change):\n",
    "    if change['type'] == 'change' and change['name'] == 'value':\n",
    "        with quiz3_output:\n",
    "            clear_output()\n",
    "            if change['new'] == \"[x + 1 for x in [1, 2, 3]]\":\n",
    "                print(\"✅ Correct! That list comprehension yields [2,3,4].\")\n",
    "            else:\n",
    "                print(\"❌ No, that's not the same result.\")\n",
    "\n",
    "quiz3_radio.observe(on_quiz3_change, names='value')\n",
    "display(quiz3_radio, quiz3_output)"
   ]
  },
  {
   "cell_type": "markdown",
   "metadata": {},
   "source": [
    "# 4. Object-Oriented Programming (OOP)\n",
    "\n",
    "Classes let you bundle data (attributes) and functionality (methods) together. Key OOP ideas:\n",
    "- **Inheritance**: a subclass extends a base class.\n",
    "- **Encapsulation**: logically grouping code/data. (Python doesn't enforce strict privacy, but underscores `_var` are used by convention.)\n",
    "- **Polymorphism**: calling the same method on different classes yields class-specific behavior."
   ]
  },
  {
   "cell_type": "code",
   "execution_count": 33,
   "metadata": {},
   "outputs": [
    {
     "name": "stdout",
     "output_type": "stream",
     "text": [
      "Buddy says: Woof!\n",
      "Whiskers says: Meow!\n",
      "Generic makes a noise.\n",
      "Buddy has energy 100.\n"
     ]
    }
   ],
   "source": [
    "class Animal:\n",
    "    def __init__(self, name):\n",
    "        self.name = name\n",
    "        self._energy = 100\n",
    "\n",
    "    def speak(self):\n",
    "        print(f\"{self.name} makes a noise.\")\n",
    "\n",
    "    def info(self):\n",
    "        print(f\"{self.name} has energy {self._energy}.\")\n",
    "\n",
    "# Subclasses can override speak()\n",
    "class Dog(Animal):\n",
    "    def speak(self):\n",
    "        print(f\"{self.name} says: Woof!\")\n",
    "\n",
    "class Cat(Animal):\n",
    "    def speak(self):\n",
    "        print(f\"{self.name} says: Meow!\")\n",
    "\n",
    "animals = [Dog(\"Buddy\"), Cat(\"Whiskers\"), Animal(\"Generic\")]  # Polymorphism\n",
    "for a in animals:\n",
    "    a.speak()\n",
    "\n",
    "# We can also call the inherited info() method on Dog or Cat.\n",
    "animals[0].info()"
   ]
  },
  {
   "cell_type": "markdown",
   "metadata": {},
   "source": [
    "### Quiz\n",
    "\n",
    "When two subclasses (like `Dog` and `Cat`) each **override** `speak()`, and you call `animal.speak()`, it runs the class-specific method. This is called _____."
   ]
  },
  {
   "cell_type": "code",
   "execution_count": 35,
   "metadata": {},
   "outputs": [
    {
     "data": {
      "application/vnd.jupyter.widget-view+json": {
       "model_id": "e71891db97e54a5196dbfecfda4ac60d",
       "version_major": 2,
       "version_minor": 0
      },
      "text/plain": [
       "RadioButtons(description='Concept:', options=('Inheritance', 'Encapsulation', 'Polymorphism', 'Abstraction'), …"
      ]
     },
     "metadata": {},
     "output_type": "display_data"
    },
    {
     "data": {
      "application/vnd.jupyter.widget-view+json": {
       "model_id": "fa0c51ac2ba14b38b95116b6e29d1e21",
       "version_major": 2,
       "version_minor": 0
      },
      "text/plain": [
       "Output()"
      ]
     },
     "metadata": {},
     "output_type": "display_data"
    }
   ],
   "source": [
    "quiz4_options = [\"Inheritance\", \"Encapsulation\", \"Polymorphism\", \"Abstraction\"]\n",
    "quiz4_radio = widgets.RadioButtons(options=quiz4_options, description='Concept:')\n",
    "quiz4_output = widgets.Output()\n",
    "\n",
    "def on_quiz4_change(change):\n",
    "    if change['type'] == 'change' and change['name'] == 'value':\n",
    "        with quiz4_output:\n",
    "            clear_output()\n",
    "            if change['new'] == \"Polymorphism\":\n",
    "                print(\"✅ Correct, that's polymorphism.\")\n",
    "            else:\n",
    "                print(\"❌ Try again.\")\n",
    "\n",
    "quiz4_radio.observe(on_quiz4_change, names='value')\n",
    "display(quiz4_radio, quiz4_output)"
   ]
  },
  {
   "cell_type": "markdown",
   "metadata": {},
   "source": [
    "# 5. Decorators\n",
    "\n",
    "A **decorator** is a function that takes another function and returns a wrapped version. Decorators are denoted by `@decorator_name` above a function definition and can add cross-cutting behavior like logging, timing, or caching.\n"
   ]
  },
  {
   "cell_type": "code",
   "execution_count": 36,
   "metadata": {},
   "outputs": [
    {
     "name": "stdout",
     "output_type": "stream",
     "text": [
      "Function 'compute_sum' took 0.0530 seconds\n",
      "Result = 499999500000\n"
     ]
    }
   ],
   "source": [
    "import time\n",
    "\n",
    "def timer(func):\n",
    "    \"\"\"A decorator that reports how long 'func' takes to run.\"\"\"\n",
    "    def wrapper(*args, **kwargs):\n",
    "        start = time.time()\n",
    "        result = func(*args, **kwargs)\n",
    "        end = time.time()\n",
    "        print(f\"Function '{func.__name__}' took {end - start:.4f} seconds\")\n",
    "        return result\n",
    "    return wrapper\n",
    "\n",
    "@timer\n",
    "def compute_sum(n):\n",
    "    total = 0\n",
    "    for i in range(n):\n",
    "        total += i\n",
    "    return total\n",
    "\n",
    "res = compute_sum(1000000)\n",
    "print(\"Result =\", res)"
   ]
  },
  {
   "cell_type": "markdown",
   "metadata": {},
   "source": [
    "### Quiz\n",
    "\n",
    "In Python, which symbol is used to apply a decorator like `@timer` above a function?"
   ]
  },
  {
   "cell_type": "code",
   "execution_count": 37,
   "metadata": {},
   "outputs": [
    {
     "data": {
      "application/vnd.jupyter.widget-view+json": {
       "model_id": "a5042d839bad4b8f927c47cd3c557369",
       "version_major": 2,
       "version_minor": 0
      },
      "text/plain": [
       "RadioButtons(description='Symbol:', options=('@', '#', 'def', '*'), value='@')"
      ]
     },
     "metadata": {},
     "output_type": "display_data"
    },
    {
     "data": {
      "application/vnd.jupyter.widget-view+json": {
       "model_id": "605dc4f9cb444b9eab99dcd33135dd41",
       "version_major": 2,
       "version_minor": 0
      },
      "text/plain": [
       "Output()"
      ]
     },
     "metadata": {},
     "output_type": "display_data"
    }
   ],
   "source": [
    "quiz5_options = [\"@\", \"#\", \"def\", \"*\"]\n",
    "quiz5_radio = widgets.RadioButtons(options=quiz5_options, description='Symbol:')\n",
    "quiz5_output = widgets.Output()\n",
    "\n",
    "def on_quiz5_change(change):\n",
    "    if change['type'] == 'change' and change['name'] == 'value':\n",
    "        with quiz5_output:\n",
    "            clear_output()\n",
    "            if change['new'] == \"@\":\n",
    "                print(\"✅ Correct! Use @decorator above a function.\")\n",
    "            else:\n",
    "                print(\"❌ Not correct.\")\n",
    "\n",
    "quiz5_radio.observe(on_quiz5_change, names='value')\n",
    "display(quiz5_radio, quiz5_output)"
   ]
  },
  {
   "cell_type": "markdown",
   "metadata": {},
   "source": [
    "# 6. Context Managers\n",
    "\n",
    "A **context manager** in Python is an object that sets something up when entering a `with` block and tears it down when exiting, even if an exception occurs. Classic examples:\n",
    "- `with open('somefile.txt') as f:` ensures the file is closed.\n",
    "- Custom context managers can handle locks, transactions, etc."
   ]
  },
  {
   "cell_type": "code",
   "execution_count": 38,
   "metadata": {},
   "outputs": [
    {
     "name": "stdout",
     "output_type": "stream",
     "text": [
      "File content:\n",
      " Some text data\n",
      "Another line\n"
     ]
    }
   ],
   "source": [
    "# File handling with 'with': ensures the file is closed automatically.\n",
    "data = \"Some text data\\nAnother line\"\n",
    "with open(\"example.txt\", \"w\") as f:\n",
    "    f.write(data)\n",
    "\n",
    "with open(\"example.txt\", \"r\") as f:\n",
    "    content = f.read()\n",
    "    print(\"File content:\\n\", content)"
   ]
  },
  {
   "cell_type": "markdown",
   "metadata": {},
   "source": [
    "### Quiz\n",
    "\n",
    "Why use `with open('data.txt', 'r') as f:` instead of just `f = open('data.txt', 'r')`?"
   ]
  },
  {
   "cell_type": "code",
   "execution_count": 39,
   "metadata": {},
   "outputs": [
    {
     "data": {
      "application/vnd.jupyter.widget-view+json": {
       "model_id": "1e8b35eff9cd450e9884ecb1c833b3ad",
       "version_major": 2,
       "version_minor": 0
      },
      "text/plain": [
       "RadioButtons(description='Reason:', options=('It automatically closes the file, even if errors occur.', 'It’s …"
      ]
     },
     "metadata": {},
     "output_type": "display_data"
    },
    {
     "data": {
      "application/vnd.jupyter.widget-view+json": {
       "model_id": "bb820935b7e3404faa6afc03218fca17",
       "version_major": 2,
       "version_minor": 0
      },
      "text/plain": [
       "Output()"
      ]
     },
     "metadata": {},
     "output_type": "display_data"
    }
   ],
   "source": [
    "quiz6_options = [\n",
    "    \"It automatically closes the file, even if errors occur.\",\n",
    "    \"It’s the only way to read files in Python.\",\n",
    "    \"It reads the file much faster.\",\n",
    "    \"No specific reason.\"\n",
    "]\n",
    "quiz6_radio = widgets.RadioButtons(options=quiz6_options, description='Reason:')\n",
    "quiz6_output = widgets.Output()\n",
    "\n",
    "def on_quiz6_change(change):\n",
    "    if change['type'] == 'change' and change['name'] == 'value':\n",
    "        with quiz6_output:\n",
    "            clear_output()\n",
    "            if change['new'].startswith(\"It automatically closes\"):\n",
    "                print(\"✅ Correct! The with-block ensures closure even on error.\")\n",
    "            else:\n",
    "                print(\"❌ Not the main reason.\")\n",
    "\n",
    "quiz6_radio.observe(on_quiz6_change, names='value')\n",
    "display(quiz6_radio, quiz6_output)"
   ]
  },
  {
   "cell_type": "markdown",
   "metadata": {},
   "source": [
    "# 7. Python Type Hints\n",
    "\n",
    "Type hints are **optional** annotations that help static checkers (like mypy) and your IDE to catch mismatches, but Python itself doesn’t enforce them at runtime.\n"
   ]
  },
  {
   "cell_type": "code",
   "execution_count": 41,
   "metadata": {},
   "outputs": [
    {
     "name": "stdout",
     "output_type": "stream",
     "text": [
      "deep-learning\n"
     ]
    },
    {
     "ename": "AttributeError",
     "evalue": "'int' object has no attribute 'join'",
     "output_type": "error",
     "traceback": [
      "\u001b[1;31m---------------------------------------------------------------------------\u001b[0m",
      "\u001b[1;31mAttributeError\u001b[0m                            Traceback (most recent call last)",
      "\u001b[1;32m<ipython-input-41-dfb93488cf61>\u001b[0m in \u001b[0;36m<module>\u001b[1;34m\u001b[0m\n\u001b[0;32m     10\u001b[0m \u001b[1;31m# This is logically incorrect, but Python won't stop us at runtime:\u001b[0m\u001b[1;33m\u001b[0m\u001b[1;33m\u001b[0m\u001b[1;33m\u001b[0m\u001b[0m\n\u001b[0;32m     11\u001b[0m \u001b[1;31m# The function expects sep to be a string, but we pass an int.\u001b[0m\u001b[1;33m\u001b[0m\u001b[1;33m\u001b[0m\u001b[1;33m\u001b[0m\u001b[0m\n\u001b[1;32m---> 12\u001b[1;33m \u001b[0mbad\u001b[0m \u001b[1;33m=\u001b[0m \u001b[0mconcatenate\u001b[0m\u001b[1;33m(\u001b[0m\u001b[1;33m[\u001b[0m\u001b[1;34m\"number\"\u001b[0m\u001b[1;33m,\u001b[0m \u001b[1;34m\"one\"\u001b[0m\u001b[1;33m]\u001b[0m\u001b[1;33m,\u001b[0m \u001b[0msep\u001b[0m\u001b[1;33m=\u001b[0m\u001b[1;36m5\u001b[0m\u001b[1;33m)\u001b[0m\u001b[1;33m\u001b[0m\u001b[1;33m\u001b[0m\u001b[0m\n\u001b[0m\u001b[0;32m     13\u001b[0m \u001b[0mprint\u001b[0m\u001b[1;33m(\u001b[0m\u001b[1;34m\"Result with wrong type:\"\u001b[0m\u001b[1;33m,\u001b[0m \u001b[0mbad\u001b[0m\u001b[1;33m)\u001b[0m\u001b[1;33m\u001b[0m\u001b[1;33m\u001b[0m\u001b[0m\n",
      "\u001b[1;32m<ipython-input-41-dfb93488cf61>\u001b[0m in \u001b[0;36mconcatenate\u001b[1;34m(words, sep)\u001b[0m\n\u001b[0;32m      3\u001b[0m \u001b[1;32mdef\u001b[0m \u001b[0mconcatenate\u001b[0m\u001b[1;33m(\u001b[0m\u001b[0mwords\u001b[0m\u001b[1;33m:\u001b[0m \u001b[0mList\u001b[0m\u001b[1;33m[\u001b[0m\u001b[0mstr\u001b[0m\u001b[1;33m]\u001b[0m\u001b[1;33m,\u001b[0m \u001b[0msep\u001b[0m\u001b[1;33m:\u001b[0m \u001b[0mstr\u001b[0m \u001b[1;33m=\u001b[0m \u001b[1;34m\" \"\u001b[0m\u001b[1;33m)\u001b[0m \u001b[1;33m->\u001b[0m \u001b[0mstr\u001b[0m\u001b[1;33m:\u001b[0m\u001b[1;33m\u001b[0m\u001b[1;33m\u001b[0m\u001b[0m\n\u001b[0;32m      4\u001b[0m     \u001b[1;34m\"\"\"Join a list of strings with a separator, returning a single string.\"\"\"\u001b[0m\u001b[1;33m\u001b[0m\u001b[1;33m\u001b[0m\u001b[0m\n\u001b[1;32m----> 5\u001b[1;33m     \u001b[1;32mreturn\u001b[0m \u001b[0msep\u001b[0m\u001b[1;33m.\u001b[0m\u001b[0mjoin\u001b[0m\u001b[1;33m(\u001b[0m\u001b[0mwords\u001b[0m\u001b[1;33m)\u001b[0m\u001b[1;33m\u001b[0m\u001b[1;33m\u001b[0m\u001b[0m\n\u001b[0m\u001b[0;32m      6\u001b[0m \u001b[1;33m\u001b[0m\u001b[0m\n\u001b[0;32m      7\u001b[0m \u001b[1;31m# Correct usage\u001b[0m\u001b[1;33m\u001b[0m\u001b[1;33m\u001b[0m\u001b[1;33m\u001b[0m\u001b[0m\n",
      "\u001b[1;31mAttributeError\u001b[0m: 'int' object has no attribute 'join'"
     ]
    }
   ],
   "source": [
    "from typing import List\n",
    "\n",
    "def concatenate(words: List[str], sep: str = \" \") -> str:\n",
    "    \"\"\"Join a list of strings with a separator, returning a single string.\"\"\"\n",
    "    return sep.join(words)\n",
    "\n",
    "# Correct usage\n",
    "print(concatenate([\"deep\", \"learning\"], sep=\"-\"))\n",
    "\n",
    "# This is logically incorrect, but Python won't stop us at runtime:\n",
    "# The function expects sep to be a string, but we pass an int.\n",
    "bad = concatenate([\"number\", \"one\"], sep=5)\n",
    "print(\"Result with wrong type:\", bad)"
   ]
  },
  {
   "cell_type": "markdown",
   "metadata": {},
   "source": [
    "### Quiz\n",
    "\n",
    "True or False: *Python will raise a runtime error if you pass a value of the wrong type to a function that has type hints.*"
   ]
  },
  {
   "cell_type": "code",
   "execution_count": 43,
   "metadata": {},
   "outputs": [
    {
     "data": {
      "application/vnd.jupyter.widget-view+json": {
       "model_id": "f2a9b9eec3c048318a1876d4107c8ff5",
       "version_major": 2,
       "version_minor": 0
      },
      "text/plain": [
       "RadioButtons(description='Answer:', options=('True', 'False'), value='True')"
      ]
     },
     "metadata": {},
     "output_type": "display_data"
    },
    {
     "data": {
      "application/vnd.jupyter.widget-view+json": {
       "model_id": "0f746d058db941c79fb136e2d12c9a9a",
       "version_major": 2,
       "version_minor": 0
      },
      "text/plain": [
       "Output()"
      ]
     },
     "metadata": {},
     "output_type": "display_data"
    }
   ],
   "source": [
    "quiz7_options = [\"True\", \"False\"]\n",
    "quiz7_radio = widgets.RadioButtons(options=quiz7_options, description='Answer:')\n",
    "quiz7_output = widgets.Output()\n",
    "\n",
    "def on_quiz7_change(change):\n",
    "    if change['type'] == 'change' and change['name'] == 'value':\n",
    "        with quiz7_output:\n",
    "            clear_output()\n",
    "            if change['new'] == \"False\":\n",
    "                print(\"✅ Correct. Type hints are not enforced at runtime.\")\n",
    "            else:\n",
    "                print(\"❌ Nope. Hints are only for static checkers.\")\n",
    "\n",
    "quiz7_radio.observe(on_quiz7_change, names='value')\n",
    "display(quiz7_radio, quiz7_output)"
   ]
  },
  {
   "cell_type": "markdown",
   "metadata": {},
   "source": [
    "# 8. Efficient Iteration (Generators, itertools, Batching)\n",
    "\n",
    "For large datasets or infinite streams, **generators** let you yield items one at a time, rather than building an entire list. The `itertools` module provides utility iterators for tasks like grouping, chaining, slicing, etc."
   ]
  },
  {
   "cell_type": "code",
   "execution_count": 44,
   "metadata": {},
   "outputs": [
    {
     "name": "stdout",
     "output_type": "stream",
     "text": [
      "Generator created: <generator object count_up_to at 0x000001D05EEB02E0>\n",
      "First value: 1\n",
      "Remaining values:\n",
      "2\n",
      "3\n",
      "4\n",
      "5\n"
     ]
    }
   ],
   "source": [
    "# A generator function uses 'yield' instead of 'return'.\n",
    "# Each time 'yield' is encountered, one item is produced.\n",
    "# The function picks up from there next time.\n",
    "\n",
    "def count_up_to(n):\n",
    "    i = 1\n",
    "    while i <= n:\n",
    "        yield i\n",
    "        i += 1\n",
    "\n",
    "gen = count_up_to(5)\n",
    "print(\"Generator created:\", gen)  # It's an iterator object\n",
    "print(\"First value:\", next(gen))  # Manually get the first item\n",
    "print(\"Remaining values:\")\n",
    "for num in gen:\n",
    "    print(num)"
   ]
  },
  {
   "cell_type": "markdown",
   "metadata": {},
   "source": [
    "### Batching example\n",
    "You might see code that yields data **batches** of a given size. This is typical in ML for mini-batch training."
   ]
  },
  {
   "cell_type": "code",
   "execution_count": 45,
   "metadata": {},
   "outputs": [
    {
     "name": "stdout",
     "output_type": "stream",
     "text": [
      "[1, 2, 3, 4]\n",
      "[5, 6, 7, 8]\n",
      "[9, 10]\n"
     ]
    }
   ],
   "source": [
    "def batchify(data, batch_size):\n",
    "    \"\"\"Yield successive 'batch_size' chunks from 'data'.\"\"\"\n",
    "    for i in range(0, len(data), batch_size):\n",
    "        yield data[i:i+batch_size]\n",
    "\n",
    "dataset = list(range(1, 11))\n",
    "for batch in batchify(dataset, 4):\n",
    "    print(batch)"
   ]
  },
  {
   "cell_type": "markdown",
   "metadata": {},
   "source": [
    "### Quiz\n",
    "\n",
    "What **keyword** inside a function makes it a generator?"
   ]
  },
  {
   "cell_type": "code",
   "execution_count": 47,
   "metadata": {},
   "outputs": [
    {
     "data": {
      "application/vnd.jupyter.widget-view+json": {
       "model_id": "0d978f51fc9b4e73aa2054727ad183e2",
       "version_major": 2,
       "version_minor": 0
      },
      "text/plain": [
       "RadioButtons(description='Keyword:', options=('yield', 'return', 'async', 'gen'), value='yield')"
      ]
     },
     "metadata": {},
     "output_type": "display_data"
    },
    {
     "data": {
      "application/vnd.jupyter.widget-view+json": {
       "model_id": "3ecb023bbf4540af853143a06152512d",
       "version_major": 2,
       "version_minor": 0
      },
      "text/plain": [
       "Output()"
      ]
     },
     "metadata": {},
     "output_type": "display_data"
    }
   ],
   "source": [
    "quiz8_options = [\"yield\", \"return\", \"async\", \"gen\"]\n",
    "quiz8_radio = widgets.RadioButtons(options=quiz8_options, description='Keyword:')\n",
    "quiz8_output = widgets.Output()\n",
    "\n",
    "def on_quiz8_change(change):\n",
    "    if change['type'] == 'change' and change['name'] == 'value':\n",
    "        with quiz8_output:\n",
    "            clear_output()\n",
    "            if change['new'] == \"yield\":\n",
    "                print(\"✅ Correct! 'yield' creates a generator.\")\n",
    "            else:\n",
    "                print(\"❌ Try again.\")\n",
    "\n",
    "quiz8_radio.observe(on_quiz8_change, names='value')\n",
    "display(quiz8_radio, quiz8_output)"
   ]
  },
  {
   "cell_type": "markdown",
   "metadata": {},
   "source": [
    "# 9. Error Handling (try/except, raising exceptions)\n",
    "\n",
    "We use `try/except` to handle runtime errors gracefully, and `raise` to signal an error ourselves.\n",
    "\n",
    "- `try: ... except SomeError:` catches specific exceptions.\n",
    "- `finally:` runs code whether or not there was an exception.\n",
    "- `raise ValueError('message')` triggers an exception if we detect invalid input."
   ]
  },
  {
   "cell_type": "code",
   "execution_count": 48,
   "metadata": {},
   "outputs": [
    {
     "name": "stdout",
     "output_type": "stream",
     "text": [
      "Division succeeded.\n",
      "Execution of safe_divide complete.\n",
      "5.0\n",
      "---\n",
      "Error: cannot divide by zero!\n",
      "Execution of safe_divide complete.\n",
      "None\n"
     ]
    }
   ],
   "source": [
    "def safe_divide(a, b):\n",
    "    try:\n",
    "        result = a / b\n",
    "    except ZeroDivisionError:\n",
    "        print(\"Error: cannot divide by zero!\")\n",
    "        result = None\n",
    "    else:\n",
    "        print(\"Division succeeded.\")\n",
    "    finally:\n",
    "        print(\"Execution of safe_divide complete.\")\n",
    "    return result\n",
    "\n",
    "print(safe_divide(10, 2))\n",
    "print(\"---\")\n",
    "print(safe_divide(5, 0))"
   ]
  },
  {
   "cell_type": "markdown",
   "metadata": {},
   "source": [
    "Raising an exception manually if an invalid condition is found:"
   ]
  },
  {
   "cell_type": "code",
   "execution_count": 49,
   "metadata": {},
   "outputs": [
    {
     "name": "stdout",
     "output_type": "stream",
     "text": [
      "Learning rate set to 0.01\n",
      "Caught exception: Learning rate must be positive, got 0\n"
     ]
    }
   ],
   "source": [
    "def set_learning_rate(lr):\n",
    "    if lr <= 0:\n",
    "        raise ValueError(f\"Learning rate must be positive, got {lr}\")\n",
    "    print(f\"Learning rate set to {lr}\")\n",
    "\n",
    "set_learning_rate(0.01)\n",
    "try:\n",
    "    set_learning_rate(0)\n",
    "except ValueError as e:\n",
    "    print(\"Caught exception:\", e)"
   ]
  },
  {
   "cell_type": "markdown",
   "metadata": {},
   "source": [
    "### Quiz\n",
    "\n",
    "Which snippet catches a **missing file** error?"
   ]
  },
  {
   "cell_type": "code",
   "execution_count": 51,
   "metadata": {},
   "outputs": [
    {
     "data": {
      "application/vnd.jupyter.widget-view+json": {
       "model_id": "a88cc940fff04cb98f9fad4adbc87d8b",
       "version_major": 2,
       "version_minor": 0
      },
      "text/plain": [
       "RadioButtons(description='Code:', options=(\"try:\\n    f = open('data.txt')\\nexcept FileNotFoundError:\\n    pri…"
      ]
     },
     "metadata": {},
     "output_type": "display_data"
    },
    {
     "data": {
      "application/vnd.jupyter.widget-view+json": {
       "model_id": "ac3ecd9f649f4856ace6304a337a347e",
       "version_major": 2,
       "version_minor": 0
      },
      "text/plain": [
       "Output()"
      ]
     },
     "metadata": {},
     "output_type": "display_data"
    }
   ],
   "source": [
    "quiz9_options = [\n",
    "    \"try:\\n    f = open('data.txt')\\nexcept FileNotFoundError:\\n    print('File missing')\",\n",
    "    \"try:\\n    f = open('data.txt')\\nexcept KeyError:\\n    print('File missing')\",\n",
    "    \"try:\\n    f = open('data.txt')\\nexcept ZeroDivisionError:\\n    print('File missing')\"\n",
    "]\n",
    "\n",
    "quiz9_radio = widgets.RadioButtons(\n",
    "    options=quiz9_options,\n",
    "    description='Code:'\n",
    ")\n",
    "quiz9_output = widgets.Output()\n",
    "\n",
    "def on_quiz9_change(change):\n",
    "    if change['type'] == 'change' and change['name'] == 'value':\n",
    "        with quiz9_output:\n",
    "            clear_output()\n",
    "            correct = \"try:\\n    f = open('data.txt')\\nexcept FileNotFoundError:\\n    print('File missing')\"\n",
    "            if change['new'] == correct:\n",
    "                print(\"✅ Correct! 'FileNotFoundError' is raised if open() can't find the file.\")\n",
    "            else:\n",
    "                print(\"❌ Not correct.\")\n",
    "\n",
    "quiz9_radio.observe(on_quiz9_change, names='value')\n",
    "display(quiz9_radio, quiz9_output)"
   ]
  },
  {
   "cell_type": "markdown",
   "metadata": {},
   "source": [
    "# 10. Advanced String Formatting (f-Strings, etc.)\n",
    "\n",
    "Modern Python uses **f-strings**: `f\"Text {variable} more text\"` for convenience.\n",
    "\n",
    "- You can specify format specifiers, e.g. `{value:.2f}` for 2 decimal places.\n",
    "- Use alignment or zero-padding: `{num:03d}` zero-pads to width 3.\n",
    "- Great for printing logs with a consistent format."
   ]
  },
  {
   "cell_type": "code",
   "execution_count": 52,
   "metadata": {},
   "outputs": [
    {
     "name": "stdout",
     "output_type": "stream",
     "text": [
      "Epoch 5 - Loss: 0.123456\n",
      "value = 7.56789\n",
      "value to 2 decimal places = 7.57\n",
      "value in scientific notation = 7.6e+00\n",
      "number padded (width 5) = 00042\n",
      "[Epoch 01] Loss = 0.100\n",
      "[Epoch 02] Loss = 0.200\n",
      "[Epoch 03] Loss = 0.300\n"
     ]
    }
   ],
   "source": [
    "epoch = 5\n",
    "loss = 0.123456\n",
    "print(f\"Epoch {epoch} - Loss: {loss}\")\n",
    "\n",
    "value = 7.56789\n",
    "print(f\"value = {value}\")\n",
    "print(f\"value to 2 decimal places = {value:.2f}\")\n",
    "print(f\"value in scientific notation = {value:.1e}\")\n",
    "\n",
    "num = 42\n",
    "print(f\"number padded (width 5) = {num:05d}\")\n",
    "\n",
    "# Another example in a loop, zero-padding epoch:\n",
    "for e in range(1, 4):\n",
    "    train_loss = 0.1 * e\n",
    "    print(f\"[Epoch {e:02d}] Loss = {train_loss:.3f}\")"
   ]
  },
  {
   "cell_type": "markdown",
   "metadata": {},
   "source": [
    "### Quiz\n",
    "\n",
    "What does the following code print?\n",
    "```python\n",
    "value = 5\n",
    "print(f\"Value = {value:03d}\")\n",
    "```\n",
    "*(Hint: `:03d` means an integer, width 3, zero-padded.)*"
   ]
  },
  {
   "cell_type": "code",
   "execution_count": 54,
   "metadata": {},
   "outputs": [
    {
     "data": {
      "application/vnd.jupyter.widget-view+json": {
       "model_id": "e6054664f0404a0bb3924f6908c5fcbb",
       "version_major": 2,
       "version_minor": 0
      },
      "text/plain": [
       "RadioButtons(description='Output:', options=('Value = 005', 'Value = 5  ', 'Value = 0005', 'Value = 05'), valu…"
      ]
     },
     "metadata": {},
     "output_type": "display_data"
    },
    {
     "data": {
      "application/vnd.jupyter.widget-view+json": {
       "model_id": "adebe34aa3a74d979e44678a18fd2035",
       "version_major": 2,
       "version_minor": 0
      },
      "text/plain": [
       "Output()"
      ]
     },
     "metadata": {},
     "output_type": "display_data"
    }
   ],
   "source": [
    "quiz10_options = [\n",
    "    \"Value = 005\",\n",
    "    \"Value = 5  \",\n",
    "    \"Value = 0005\",\n",
    "    \"Value = 05\"\n",
    "]\n",
    "\n",
    "quiz10_radio = widgets.RadioButtons(options=quiz10_options, description='Output:')\n",
    "quiz10_output = widgets.Output()\n",
    "\n",
    "def on_quiz10_change(change):\n",
    "    if change['type'] == 'change' and change['name'] == 'value':\n",
    "        with quiz10_output:\n",
    "            clear_output()\n",
    "            if change['new'] == \"Value = 005\":\n",
    "                print(\"✅ Correct! 5 -> '005' when padded to width 3.\")\n",
    "            else:\n",
    "                print(\"❌ Not correct.\")\n",
    "\n",
    "quiz10_radio.observe(on_quiz10_change, names='value')\n",
    "display(quiz10_radio, quiz10_output)"
   ]
  },
  {
   "cell_type": "markdown",
   "metadata": {},
   "source": [
    "---\n",
    "## Conclusion\n",
    "\n",
    "We've covered additional Python features:\n",
    "- Advanced List Operations\n",
    "- NumPy Array Manipulation\n",
    "- Functional Programming\n",
    "- Object-Oriented Programming\n",
    "- Decorators\n",
    "- Context Managers\n",
    "- Type Hints\n",
    "- Efficient Iteration (Generators, itertools)\n",
    "- Error Handling\n",
    "- Advanced String Formatting\n",
    "\n",
    "These concepts frequently appear in real-world Python code, including deep learning scripts and data processing pipelines. Refer back here (and to the [original shorter reference](https://github.com/gamesbyjames/spanish-flash/blob/main/zero_to_hero_python_reference.ipynb)) anytime you encounter these constructs. \n",
    "\n",
    "Happy Coding!"
   ]
  },
  {
   "cell_type": "code",
   "execution_count": null,
   "metadata": {},
   "outputs": [],
   "source": []
  }
 ],
 "metadata": {
  "kernelspec": {
   "display_name": "Python 3",
   "language": "python",
   "name": "python3"
  },
  "language_info": {
   "codemirror_mode": {
    "name": "ipython",
    "version": 3
   },
   "file_extension": ".py",
   "mimetype": "text/x-python",
   "name": "python",
   "nbconvert_exporter": "python",
   "pygments_lexer": "ipython3",
   "version": "3.8.3"
  }
 },
 "nbformat": 4,
 "nbformat_minor": 5
}
